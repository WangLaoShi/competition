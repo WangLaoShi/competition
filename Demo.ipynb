{
 "cells": [
  {
   "cell_type": "code",
   "execution_count": 1,
   "id": "5738e539",
   "metadata": {
    "ExecuteTime": {
     "end_time": "2023-04-24T03:05:39.006289Z",
     "start_time": "2023-04-24T03:05:38.226455Z"
    },
    "pycharm": {
     "is_executing": true
    }
   },
   "outputs": [
    {
     "name": "stdout",
     "output_type": "stream",
     "text": [
      "        Unnamed: 0  order_date  sales_region_code  item_code  first_cate_code  \\\n",
      "0                0  2015-09-01                104      22069              307   \n",
      "1                1  2015-09-01                104      20028              301   \n",
      "2                2  2015-09-02                104      21183              307   \n",
      "3                3  2015-09-02                104      20448              308   \n",
      "4                4  2015-09-02                104      21565              307   \n",
      "...            ...         ...                ...        ...              ...   \n",
      "582609      597689  2018-12-20                102      20994              302   \n",
      "582610      597690  2018-12-20                102      21875              302   \n",
      "582611      597691  2018-12-20                102      20215              302   \n",
      "582612      597692  2018-12-20                102      20195              302   \n",
      "582613      597693  2018-12-20                102      20321              302   \n",
      "\n",
      "        second_cate_code  sales_chan_name  item_price  ord_qty  dayofmonth  \\\n",
      "0                    403                0      1114.0       19           1   \n",
      "1                    405                0      1012.0       12           1   \n",
      "2                    403                1       428.0      109           2   \n",
      "3                    404                1       962.0        3           2   \n",
      "4                    403                0      1400.0        3           2   \n",
      "...                  ...              ...         ...      ...         ...   \n",
      "582609               408                0       843.0       59          20   \n",
      "582610               408                0       762.0      502          20   \n",
      "582611               408                0      2013.0      106          20   \n",
      "582612               408                0      2120.0      187          20   \n",
      "582613               408                0      1244.0      205          20   \n",
      "\n",
      "        ...  year  is_month_start  is_month_end  is_workday  is_holiday  \\\n",
      "0       ...  2015               1             0           1           0   \n",
      "1       ...  2015               1             0           1           0   \n",
      "2       ...  2015               0             0           1           0   \n",
      "3       ...  2015               0             0           1           0   \n",
      "4       ...  2015               0             0           1           0   \n",
      "...     ...   ...             ...           ...         ...         ...   \n",
      "582609  ...  2018               0             0           1           0   \n",
      "582610  ...  2018               0             0           1           0   \n",
      "582611  ...  2018               0             0           1           0   \n",
      "582612  ...  2018               0             0           1           0   \n",
      "582613  ...  2018               0             0           1           0   \n",
      "\n",
      "        in_quarter  in_month_stage  month_num  region_chan  \\\n",
      "0                3               0          0        104-0   \n",
      "1                3               0          0        104-0   \n",
      "2                3               0          0        104-1   \n",
      "3                3               0          0        104-1   \n",
      "4                3               0          0        104-0   \n",
      "...            ...             ...        ...          ...   \n",
      "582609           4               1         39        102-0   \n",
      "582610           4               1         39        102-0   \n",
      "582611           4               1         39        102-0   \n",
      "582612           4               1         39        102-0   \n",
      "582613           4               1         39        102-0   \n",
      "\n",
      "        segements_item_price  \n",
      "0               (1000, 1500]  \n",
      "1               (1000, 1500]  \n",
      "2                   (0, 500]  \n",
      "3                (500, 1000]  \n",
      "4               (1000, 1500]  \n",
      "...                      ...  \n",
      "582609           (500, 1000]  \n",
      "582610           (500, 1000]  \n",
      "582611     (1500, 100000000]  \n",
      "582612     (1500, 100000000]  \n",
      "582613          (1000, 1500]  \n",
      "\n",
      "[582614 rows x 22 columns]\n"
     ]
    }
   ],
   "source": [
    "import pandas as pd\n",
    "import numpy as np\n",
    "\n",
    "datas = pd.read_csv(\"LincolnTemp.csv\")\n",
    "\n",
    "print(datas)"
   ]
  },
  {
   "cell_type": "code",
   "execution_count": 2,
   "id": "43285603",
   "metadata": {
    "ExecuteTime": {
     "end_time": "2023-04-24T03:05:39.493432Z",
     "start_time": "2023-04-24T03:05:39.007435Z"
    },
    "pycharm": {
     "is_executing": true
    }
   },
   "outputs": [],
   "source": [
    "from sklearn.model_selection import train_test_split"
   ]
  },
  {
   "cell_type": "code",
   "execution_count": 3,
   "id": "59c5785e",
   "metadata": {
    "ExecuteTime": {
     "end_time": "2023-04-24T03:05:39.497955Z",
     "start_time": "2023-04-24T03:05:39.494935Z"
    }
   },
   "outputs": [
    {
     "data": {
      "text/plain": [
       "Index(['Unnamed: 0', 'order_date', 'sales_region_code', 'item_code',\n",
       "       'first_cate_code', 'second_cate_code', 'sales_chan_name', 'item_price',\n",
       "       'ord_qty', 'dayofmonth', 'dayofweek', 'month', 'year', 'is_month_start',\n",
       "       'is_month_end', 'is_workday', 'is_holiday', 'in_quarter',\n",
       "       'in_month_stage', 'month_num', 'region_chan', 'segements_item_price'],\n",
       "      dtype='object')"
      ]
     },
     "execution_count": 3,
     "metadata": {},
     "output_type": "execute_result"
    }
   ],
   "source": [
    "datas.columns"
   ]
  },
  {
   "cell_type": "code",
   "execution_count": 4,
   "id": "56f41150",
   "metadata": {
    "ExecuteTime": {
     "end_time": "2023-04-24T03:05:39.504156Z",
     "start_time": "2023-04-24T03:05:39.498692Z"
    }
   },
   "outputs": [],
   "source": [
    "X = datas[['sales_region_code', 'item_code',\n",
    "       'first_cate_code', 'second_cate_code', 'sales_chan_name',]]\n",
    "y = datas['ord_qty']"
   ]
  },
  {
   "cell_type": "code",
   "execution_count": 5,
   "id": "179081ca",
   "metadata": {
    "ExecuteTime": {
     "end_time": "2023-04-24T03:05:39.536351Z",
     "start_time": "2023-04-24T03:05:39.506351Z"
    }
   },
   "outputs": [],
   "source": [
    "X_train, X_test, y_train, y_test = train_test_split(X, y, test_size=0.3, random_state=42)"
   ]
  },
  {
   "cell_type": "code",
   "execution_count": 6,
   "id": "9f42eba4",
   "metadata": {
    "ExecuteTime": {
     "end_time": "2023-04-24T03:05:39.540542Z",
     "start_time": "2023-04-24T03:05:39.537186Z"
    }
   },
   "outputs": [
    {
     "name": "stdout",
     "output_type": "stream",
     "text": [
      "cur_dir /Users/lincolnmac16/Documents/GitHub/PythonUtils/competition\n",
      "['/Users/lincolnmac16/Documents/GitHub/PythonUtils/competition', '/Users/lincolnmac16/opt/anaconda3/envs/PythonUtils/lib/python38.zip', '/Users/lincolnmac16/opt/anaconda3/envs/PythonUtils/lib/python3.8', '/Users/lincolnmac16/opt/anaconda3/envs/PythonUtils/lib/python3.8/lib-dynload', '', '/Users/lincolnmac16/.local/lib/python3.8/site-packages', '/Users/lincolnmac16/opt/anaconda3/envs/PythonUtils/lib/python3.8/site-packages', '/Users/lincolnmac16/Documents/GitHub', '/Users/lincolnmac16/Documents/GitHub/PythonUtils/']\n"
     ]
    }
   ],
   "source": [
    "import os\n",
    "import sys\n",
    " \n",
    "cur_dir = os.getcwd()\n",
    "print(\"cur_dir\",cur_dir)\n",
    "pkg_rootdir = os.path.dirname(os.path.dirname(cur_dir))\n",
    "# print(pkg_rootdir)\n",
    "if pkg_rootdir not in sys.path:\n",
    "    sys.path.append(pkg_rootdir)\n",
    "sys.path.append('/Users/lincolnmac16/Documents/GitHub/PythonUtils/')\n",
    "print(sys.path)"
   ]
  },
  {
   "cell_type": "code",
   "execution_count": 7,
   "id": "5d6e72b6",
   "metadata": {
    "ExecuteTime": {
     "end_time": "2023-04-24T03:05:39.739716Z",
     "start_time": "2023-04-24T03:05:39.541736Z"
    }
   },
   "outputs": [
    {
     "ename": "ModuleNotFoundError",
     "evalue": "No module named 'machine_learning.ml_result.MLResult'",
     "output_type": "error",
     "traceback": [
      "\u001B[0;31m---------------------------------------------------------------------------\u001B[0m",
      "\u001B[0;31mModuleNotFoundError\u001B[0m                       Traceback (most recent call last)",
      "Cell \u001B[0;32mIn[7], line 1\u001B[0m\n\u001B[0;32m----> 1\u001B[0m \u001B[38;5;28;01mfrom\u001B[39;00m \u001B[38;5;21;01mmachine_learning\u001B[39;00m\u001B[38;5;21;01m.\u001B[39;00m\u001B[38;5;21;01mml_result\u001B[39;00m\u001B[38;5;21;01m.\u001B[39;00m\u001B[38;5;21;01mMLResult\u001B[39;00m \u001B[38;5;28;01mimport\u001B[39;00m \u001B[38;5;241m*\u001B[39m\n",
      "\u001B[0;31mModuleNotFoundError\u001B[0m: No module named 'machine_learning.ml_result.MLResult'"
     ]
    }
   ],
   "source": [
    "from machine_learning.ml_result.ml_caller import *"
   ]
  },
  {
   "cell_type": "code",
   "execution_count": null,
   "id": "24fd9efb",
   "metadata": {
    "ExecuteTime": {
     "end_time": "2023-04-24T03:05:39.741009Z",
     "start_time": "2023-04-24T03:05:39.741003Z"
    }
   },
   "outputs": [],
   "source": [
    "tempResult = rgs_ml_scores(X_train,y_train,X_test, y_test)"
   ]
  },
  {
   "cell_type": "code",
   "execution_count": null,
   "id": "aa9b8f1f",
   "metadata": {
    "ExecuteTime": {
     "end_time": "2023-04-24T03:05:39.741869Z",
     "start_time": "2023-04-24T03:05:39.741860Z"
    }
   },
   "outputs": [],
   "source": [
    "outputRGSResults(tempResult)"
   ]
  },
  {
   "cell_type": "code",
   "execution_count": null,
   "id": "811c4c51",
   "metadata": {
    "ExecuteTime": {
     "end_time": "2023-04-24T03:05:39.742650Z",
     "start_time": "2023-04-24T03:05:39.742644Z"
    }
   },
   "outputs": [],
   "source": [
    "plot_learn_curve('rgs',X_train,y_train,X_test)"
   ]
  },
  {
   "cell_type": "code",
   "execution_count": null,
   "id": "72c29ac9",
   "metadata": {
    "ExecuteTime": {
     "end_time": "2023-04-24T03:05:39.743137Z",
     "start_time": "2023-04-24T03:05:39.743131Z"
    }
   },
   "outputs": [],
   "source": [
    "import matplotlib\n",
    "# 查了安装路径\n",
    "print(matplotlib.get_data_path()) "
   ]
  },
  {
   "cell_type": "code",
   "execution_count": null,
   "id": "5ef8dfbf",
   "metadata": {
    "ExecuteTime": {
     "end_time": "2023-04-24T03:05:39.743760Z",
     "start_time": "2023-04-24T03:05:39.743754Z"
    }
   },
   "outputs": [],
   "source": [
    "!wget http://tianchi-media.oss-cn-beijing.aliyuncs.com/DSW/Python/miniproject/01_draw_moon_cake/Alibaba-PuHuiTi-Medium.ttf"
   ]
  },
  {
   "cell_type": "code",
   "execution_count": null,
   "id": "9a98b64a",
   "metadata": {},
   "outputs": [],
   "source": []
  }
 ],
 "metadata": {
  "kernelspec": {
   "display_name": "Python 3 (ipykernel)",
   "language": "python",
   "name": "python3"
  },
  "language_info": {
   "codemirror_mode": {
    "name": "ipython",
    "version": 3
   },
   "file_extension": ".py",
   "mimetype": "text/x-python",
   "name": "python",
   "nbconvert_exporter": "python",
   "pygments_lexer": "ipython3",
   "version": "3.8.16"
  },
  "toc": {
   "base_numbering": 1,
   "nav_menu": {},
   "number_sections": true,
   "sideBar": true,
   "skip_h1_title": false,
   "title_cell": "Table of Contents",
   "title_sidebar": "Contents",
   "toc_cell": false,
   "toc_position": {},
   "toc_section_display": true,
   "toc_window_display": false
  }
 },
 "nbformat": 4,
 "nbformat_minor": 5
}
